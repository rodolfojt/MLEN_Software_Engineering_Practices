{
 "cells": [
  {
   "cell_type": "markdown",
   "metadata": {},
   "source": [
    "# Otimização de código: Presentes nos Feriados\n",
    "\n",
    "Neste exemplo, vamos mostrar que usar operações vetorizadas e estruturas de dados mais eficientes podem otimizar nosso código.\n",
    "\n",
    "Digamos que em uma determinada loja online de presentes tem um milhão de usuários onde cada um listou um presente em uma lista de desejos. Temos os preços para cada um desses presentes e estão armazenados em `gift_costs.txt`. Para cada feriado, teremos que dar a lista de desejos para um dado cliente caso o presente custe menos de 25 dólares. Agora, queremos aclcular o custo total para todos os presentes abaixo de 25 dólares para ver quanto iremos gastar em presentes gratuitos. Aqui veremos um modo de fazer isso.\n",
    "\n",
    "Este notebook foi traduzido e complementado de uma das atividades do programa Udacity Machine Learning Nanodegree."
   ]
  },
  {
   "cell_type": "code",
   "execution_count": 1,
   "metadata": {},
   "outputs": [],
   "source": [
    "import time\n",
    "import numpy as np"
   ]
  },
  {
   "cell_type": "code",
   "execution_count": 8,
   "metadata": {},
   "outputs": [],
   "source": [
    "with open('gift_costs.txt') as f:\n",
    "    gift_costs = f.read().split('\\n')\n",
    "    \n",
    "gift_costs = np.array(gift_costs).astype(int)  # converte string em int"
   ]
  },
  {
   "cell_type": "code",
   "execution_count": 9,
   "metadata": {},
   "outputs": [
    {
     "name": "stdout",
     "output_type": "stream",
     "text": [
      "32765421.24\n",
      "Duration: 6.227868318557739 seconds\n"
     ]
    }
   ],
   "source": [
    "start = time.time()\n",
    "\n",
    "total_price = 0\n",
    "for cost in gift_costs:\n",
    "    if cost < 25:\n",
    "        total_price += cost * 1.08  # Adiciona o custo depois das taxas\n",
    "\n",
    "print(total_price)\n",
    "print('Duration: {} seconds'.format(time.time() - start))"
   ]
  },
  {
   "cell_type": "markdown",
   "metadata": {},
   "source": [
    "Aqui iremos iterar a cada custo da lista e checar se está abaixo de 25 dólares. Se sim, precisamos adicionar o custo ao preço total depois das taxas. Isso funciona, porém há um modo muito mais eficiente de fazer isso. Veremos:"
   ]
  },
  {
   "cell_type": "markdown",
   "metadata": {},
   "source": [
    "## Código refatorado\n",
    "\n",
    "**Dica:** Usar numpy torna muito fácil selecionat todos os elementos em um array que atende a certa condição e depois executa operações em todos os elementos de uma única vez. Assim, podemos encontrar a soma total mais rápido."
   ]
  },
  {
   "cell_type": "code",
   "execution_count": 10,
   "metadata": {},
   "outputs": [
    {
     "name": "stdout",
     "output_type": "stream",
     "text": [
      "32765421.24\n",
      "Duration: 0.09282779693603516 seconds\n"
     ]
    }
   ],
   "source": [
    "start = time.time()\n",
    "\n",
    "total_price = np.sum(gift_costs[np.where(gift_costs < 25 )]*1.08)\n",
    "\n",
    "print(total_price)\n",
    "print('Duration: {} seconds'.format(time.time() - start))"
   ]
  }
 ],
 "metadata": {
  "kernelspec": {
   "display_name": "Python 3",
   "language": "python",
   "name": "python3"
  },
  "language_info": {
   "codemirror_mode": {
    "name": "ipython",
    "version": 3
   },
   "file_extension": ".py",
   "mimetype": "text/x-python",
   "name": "python",
   "nbconvert_exporter": "python",
   "pygments_lexer": "ipython3",
   "version": "3.6.3"
  }
 },
 "nbformat": 4,
 "nbformat_minor": 2
}
